{
 "cells": [
  {
   "cell_type": "code",
   "execution_count": 10,
   "metadata": {},
   "outputs": [
    {
     "name": "stdout",
     "output_type": "stream",
     "text": [
      "2020-10-25 14:33:18,565 GET https://datasets.imdbws.com/name.basics.tsv.gz -> downloads/name.basics.tsv.gz\n",
      "2020-10-25 14:33:40,136 GET https://datasets.imdbws.com/title.basics.tsv.gz -> downloads/title.basics.tsv.gz\n",
      "2020-10-25 14:33:53,880 GET https://datasets.imdbws.com/title.akas.tsv.gz -> downloads/title.akas.tsv.gz\n",
      "2020-10-25 14:34:15,406 GET https://datasets.imdbws.com/title.principals.tsv.gz -> downloads/title.principals.tsv.gz\n",
      "2020-10-25 14:34:51,065 GET https://datasets.imdbws.com/title.episode.tsv.gz -> downloads/title.episode.tsv.gz\n",
      "2020-10-25 14:34:54,831 GET https://datasets.imdbws.com/title.ratings.tsv.gz -> downloads/title.ratings.tsv.gz\n",
      "2020-10-25 14:34:55,681 Populating database: imdb.db\n",
      "2020-10-25 14:34:55,682 Applying schema\n",
      "2020-10-25 14:34:55,686 Importing file: downloads/name.basics.tsv.gz\n",
      "2020-10-25 14:34:55,686 Reading number of rows ...\n",
      "2020-10-25 14:34:59,323 Inserting rows into table: people\n",
      "100%|████████████████████████| 10455333/10455333 [01:15<00:00, 137734.41 rows/s]\n",
      "2020-10-25 14:36:15,242 Importing file: downloads/title.basics.tsv.gz\n",
      "2020-10-25 14:36:15,242 Reading number of rows ...\n",
      "2020-10-25 14:36:17,750 Inserting rows into table: titles\n",
      "100%|██████████████████████████| 7281233/7281233 [01:06<00:00, 109042.44 rows/s]\n",
      "2020-10-25 14:37:24,526 Importing file: downloads/title.akas.tsv.gz\n",
      "2020-10-25 14:37:24,526 Reading number of rows ...\n",
      "2020-10-25 14:37:28,960 Inserting rows into table: akas\n",
      "100%|████████████████████████| 23897283/23897283 [02:58<00:00, 134199.76 rows/s]\n",
      "2020-10-25 14:40:27,035 Importing file: downloads/title.principals.tsv.gz\n",
      "2020-10-25 14:40:27,035 Reading number of rows ...\n",
      "2020-10-25 14:40:34,446 Inserting rows into table: crew\n",
      "100%|████████████████████████| 41657057/41657057 [04:05<00:00, 169418.26 rows/s]\n",
      "2020-10-25 14:44:40,332 Importing file: downloads/title.episode.tsv.gz\n",
      "2020-10-25 14:44:40,332 Reading number of rows ...\n",
      "2020-10-25 14:44:40,901 Inserting rows into table: episodes\n",
      "100%|██████████████████████████| 5243493/5243493 [00:25<00:00, 209098.84 rows/s]\n",
      "2020-10-25 14:45:05,980 Importing file: downloads/title.ratings.tsv.gz\n",
      "2020-10-25 14:45:05,980 Reading number of rows ...\n",
      "2020-10-25 14:45:06,081 Inserting rows into table: ratings\n",
      "100%|██████████████████████████| 1086028/1086028 [00:05<00:00, 196469.93 rows/s]\n",
      "2020-10-25 14:45:11,611 Creating table indices ...\n",
      "2020-10-25 14:46:52,189 Import successful\n"
     ]
    }
   ],
   "source": [
    "! imdb-sqlite"
   ]
  },
  {
   "cell_type": "code",
   "execution_count": 1,
   "metadata": {},
   "outputs": [],
   "source": [
    "import sqlite3\n",
    "import pandas as pd"
   ]
  },
  {
   "cell_type": "code",
   "execution_count": 2,
   "metadata": {},
   "outputs": [],
   "source": [
    "db = sqlite3.connect(\"imdb.db\")\n",
    "cur = db.cursor()"
   ]
  },
  {
   "cell_type": "code",
   "execution_count": 3,
   "metadata": {},
   "outputs": [],
   "source": [
    "db_short = sqlite3.connect(\"imdb_short.db\")\n",
    "cur_short = db_short.cursor()"
   ]
  },
  {
   "cell_type": "code",
   "execution_count": 7,
   "metadata": {},
   "outputs": [],
   "source": [
    "cur.execute(\"SELECT distinct category FROM crew ORDER BY category\")\n",
    "role_categories = {name[0]: idx + 1 for idx, name in enumerate(cur.fetchall())}"
   ]
  },
  {
   "cell_type": "code",
   "execution_count": 21,
   "metadata": {},
   "outputs": [
    {
     "data": {
      "text/plain": [
       "dict_items([('actor', 1), ('actress', 2), ('archive_footage', 3), ('archive_sound', 4), ('cinematographer', 5), ('composer', 6), ('director', 7), ('editor', 8), ('producer', 9), ('production_designer', 10), ('self', 11), ('writer', 12)])"
      ]
     },
     "execution_count": 21,
     "metadata": {},
     "output_type": "execute_result"
    }
   ],
   "source": [
    "role_categories.items()"
   ]
  },
  {
   "cell_type": "code",
   "execution_count": 28,
   "metadata": {},
   "outputs": [],
   "source": [
    "pd.DataFrame({\"id\": role_categories.values(), \"role_type\": role_categories.keys()}).to_sql(\"role_categories\", con=db_short, if_exists=\"replace\", index=False)"
   ]
  },
  {
   "cell_type": "code",
   "execution_count": 4,
   "metadata": {},
   "outputs": [],
   "source": [
    "cur_short.execute(\"CREATE TABLE crew (title_id INT, person_id INT, category INT)\")\n",
    "db_short.commit()"
   ]
  },
  {
   "cell_type": "code",
   "execution_count": 8,
   "metadata": {},
   "outputs": [],
   "source": [
    "cur.execute(\"\"\"\n",
    "SELECT \n",
    "    CAST(substr(title_id, 3) AS INT) as title_id, \n",
    "    CAST(substr(person_id, 3) AS INT) as person_id,\n",
    "    category \n",
    "FROM crew\"\"\")\n",
    "data = cur.fetchmany(100000)\n",
    "while data:\n",
    "    data = [(i, j, role_categories.get(k)) for i, j, k in data]\n",
    "    cur_short.executemany(\"INSERT INTO crew VALUES (?, ?, ?)\", data)\n",
    "    db_short.commit()\n",
    "    data = cur.fetchmany(100000)"
   ]
  },
  {
   "cell_type": "code",
   "execution_count": 9,
   "metadata": {},
   "outputs": [],
   "source": [
    "cur_short.execute(\"CREATE TABLE people (person_id INT, name TEXT, born INT, died INT)\")\n",
    "db_short.commit()"
   ]
  },
  {
   "cell_type": "code",
   "execution_count": 11,
   "metadata": {},
   "outputs": [],
   "source": [
    "cur.execute(\"\"\"\n",
    "SELECT \n",
    "    CAST(substr(person_id, 3) AS INT) as person_id, \n",
    "    name,\n",
    "    born,\n",
    "    died\n",
    "FROM people\"\"\")\n",
    "data = cur.fetchmany(100000)\n",
    "while data:\n",
    "    cur_short.executemany(\"INSERT INTO people VALUES (?, ?, ?, ?)\", data)\n",
    "    db_short.commit()\n",
    "    data = cur.fetchmany(100000)"
   ]
  },
  {
   "cell_type": "code",
   "execution_count": 12,
   "metadata": {},
   "outputs": [],
   "source": [
    "cur_short.execute(\"CREATE TABLE rating (title_id INT, rating REAL, votes INT)\")\n",
    "db_short.commit()"
   ]
  },
  {
   "cell_type": "code",
   "execution_count": 14,
   "metadata": {},
   "outputs": [],
   "source": [
    "cur.execute(\"\"\"\n",
    "SELECT \n",
    "    CAST(substr(title_id, 3) AS INT) as title_id, \n",
    "    rating, votes\n",
    "FROM ratings\"\"\")\n",
    "data = cur.fetchmany(100000)\n",
    "while data:\n",
    "    cur_short.executemany(\"INSERT INTO rating VALUES (?, ?, ?)\", data)\n",
    "    db_short.commit()\n",
    "    data = cur.fetchmany(100000)"
   ]
  },
  {
   "cell_type": "code",
   "execution_count": 15,
   "metadata": {},
   "outputs": [],
   "source": [
    "cur_short.execute(\"CREATE TABLE titles (title_id INT, type INT, title TEXT, is_adult INT, premiered INT, ended INT, runtime_min INT)\")\n",
    "db_short.commit()"
   ]
  },
  {
   "cell_type": "code",
   "execution_count": 16,
   "metadata": {},
   "outputs": [],
   "source": [
    "cur.execute(\"SELECT distinct type FROM titles ORDER BY type\")\n",
    "film_types = {name[0]: idx + 1 for idx, name in enumerate(cur.fetchall())}"
   ]
  },
  {
   "cell_type": "code",
   "execution_count": 17,
   "metadata": {},
   "outputs": [
    {
     "data": {
      "text/plain": [
       "{'movie': 1,\n",
       " 'short': 2,\n",
       " 'tvEpisode': 3,\n",
       " 'tvMiniSeries': 4,\n",
       " 'tvMovie': 5,\n",
       " 'tvSeries': 6,\n",
       " 'tvShort': 7,\n",
       " 'tvSpecial': 8,\n",
       " 'video': 9,\n",
       " 'videoGame': 10}"
      ]
     },
     "execution_count": 17,
     "metadata": {},
     "output_type": "execute_result"
    }
   ],
   "source": [
    "film_types"
   ]
  },
  {
   "cell_type": "code",
   "execution_count": 27,
   "metadata": {},
   "outputs": [],
   "source": [
    "cur.execute(\"SELECT distinct genres FROM titles WHERE genres != '\\\\N' ORDER BY genres \")\n",
    "genres = set()\n",
    "for list_of in cur.fetchall():\n",
    "    for g in list_of[0].split(\",\"):\n",
    "        genres.add(g)"
   ]
  },
  {
   "cell_type": "code",
   "execution_count": 30,
   "metadata": {},
   "outputs": [],
   "source": [
    "pd.DataFrame({\"id\": film_types.values(), \"film_type\": film_types.keys()}).to_sql(\"film_types\", con=db_short, if_exists=\"replace\", index=False)"
   ]
  },
  {
   "cell_type": "code",
   "execution_count": 19,
   "metadata": {},
   "outputs": [],
   "source": [
    "cur_short.execute(\"CREATE TABLE film_genres (title_id INT, genre_id INT)\")\n",
    "db_short.commit()"
   ]
  },
  {
   "cell_type": "code",
   "execution_count": 32,
   "metadata": {},
   "outputs": [],
   "source": [
    "genres = {name: idx + 1 for idx, name in enumerate(sorted(genres))}"
   ]
  },
  {
   "cell_type": "code",
   "execution_count": 33,
   "metadata": {},
   "outputs": [],
   "source": [
    "pd.DataFrame({\"id\": genres.values(), \"genre_name\": genres.keys()}).to_sql(\"genre_types\", con=db_short, if_exists=\"replace\", index=False)"
   ]
  },
  {
   "cell_type": "code",
   "execution_count": 43,
   "metadata": {},
   "outputs": [],
   "source": [
    "cur.execute(\"\"\"\n",
    "SELECT \n",
    "    CAST(substr(title_id, 3) AS INT) as title_id, \n",
    "    type,\n",
    "    primary_title,\n",
    "    is_adult,\n",
    "    premiered,\n",
    "    ended,\n",
    "    runtime_minutes,\n",
    "    genres \n",
    "FROM titles\"\"\")\n",
    "data = cur.fetchmany(100000)\n",
    "while data:\n",
    "    data1 = [(tid, film_types.get(ty), tt, ad, st, end, run) for tid, ty, tt, ad, st, end, run, gen in data]\n",
    "    data2 = []\n",
    "    for row in data:\n",
    "        if row[-1] == \"\\\\N\":\n",
    "            continue\n",
    "        for g in row[-1].split(\",\"):\n",
    "            data2.append((row[0], genres.get(g)))\n",
    "    cur_short.executemany(\"INSERT INTO titles VALUES (?, ?, ?, ?, ?, ?, ?)\", data1)\n",
    "    cur_short.executemany(\"INSERT INTO film_genres VALUES (?, ?)\", data2)\n",
    "    db_short.commit()\n",
    "    data = cur.fetchmany(100000)"
   ]
  },
  {
   "cell_type": "raw",
   "metadata": {},
   "source": [
    "DELETE FROM titles WHERE type NOT IN (1, 4, 6);\n",
    "\n",
    "DELETE FROM film_genres WHERE film_genres.title_id NOT IN (SELECT title_id FROM titles);\n",
    "\n",
    "DELETE FROM crew WHERE crew.title_id NOT IN (SELECT title_id FROM titles);\n",
    "\n",
    "DELETE FROM rating WHERE rating.title_id NOT IN (SELECT title_id FROM titles);\n",
    "\n",
    "DELETE FROM people WHERE people.person_id NOT IN (SELECT person_id FROM crew);"
   ]
  }
 ],
 "metadata": {
  "kernelspec": {
   "display_name": "Python 3",
   "language": "python",
   "name": "python3"
  },
  "language_info": {
   "codemirror_mode": {
    "name": "ipython",
    "version": 3
   },
   "file_extension": ".py",
   "mimetype": "text/x-python",
   "name": "python",
   "nbconvert_exporter": "python",
   "pygments_lexer": "ipython3",
   "version": "3.8.5"
  }
 },
 "nbformat": 4,
 "nbformat_minor": 4
}
